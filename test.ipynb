{
 "cells": [
  {
   "cell_type": "code",
   "execution_count": 1,
   "metadata": {},
   "outputs": [],
   "source": [
    "import requests\n",
    "from bs4 import BeautifulSoup\n",
    "import json\n",
    "\n",
    "headers = {'User-Agent': 'Mozilla/5.0 (Linux; Android 6.0; Nexus 5 Build/MRA58N) AppleWebKit/537.36 (KHTML, like Gecko) Chrome/105.0.0.0 Mobile Safari/537.36'}\n",
    "vocab = \"apt\"\n",
    "res = requests.get('https://dictionary.cambridge.org/zht/%E8%A9%9E%E5%85%B8/%E8%8B%B1%E8%AA%9E-%E6%BC%A2%E8%AA%9E-%E7%B9%81%E9%AB%94/{}'.format(vocab), headers=headers)\n",
    "text = res.text"
   ]
  },
  {
   "cell_type": "markdown",
   "metadata": {},
   "source": [
    "## Cambridge Dict"
   ]
  },
  {
   "cell_type": "code",
   "execution_count": 4,
   "metadata": {},
   "outputs": [
    {
     "name": "stdout",
     "output_type": "stream",
     "text": [
      "adjective\n",
      "pronounciation:  /æpt/\n",
      "definition:  suitable or right for a particular situation\n",
      "translation:  適當的，恰當的；合適的\n",
      "example:   an apt comment/description\n",
      "中肯的評論／貼切的描述\n",
      "\n",
      "--------------------\n",
      "definition:  to be likely to do something or to often do something\n",
      "translation:  易於做…的；常做…的\n",
      "example:   The kitchen roof is apt to (= likely to) leak when it rains.\n",
      "一下雨廚房屋頂就容易漏水。\n",
      "\n",
      "example:   She's in her eighties now and apt to be a little forgetful.\n",
      "她已經80多歲了，有些健忘。\n",
      "\n",
      "--------------------\n",
      "definition:  having a natural ability or skill\n",
      "translation:  天資聰明的，有天賦的；聰明的\n",
      "example:   We have some particularly apt students in the class this year.\n",
      "這學年班裡有幾個特別聰明的學生。\n",
      "\n",
      "--------------------\n",
      "noun [ C ]\n",
      "definition:  abbreviation for apartment\n",
      "translation:  公寓（apartment的縮寫）\n",
      "--------------------\n"
     ]
    }
   ],
   "source": [
    "# display\n",
    "soup = BeautifulSoup( text , 'lxml')\n",
    "    \n",
    "for entry in soup.select('.entry-body__el'):\n",
    "    if len(entry.select('.pos')) == 0:\n",
    "        continue\n",
    "    \n",
    "    if len(entry.select('.gram')):\n",
    "        print('{} {}'.format(entry.select('.pos')[0].text, entry.select('.gram')[0].text))\n",
    "    else:\n",
    "        print('{}'.format(entry.select('.pos')[0].text))\n",
    "    if len(entry.select('.us')):\n",
    "        print('pronounciation: ', entry.select('.us')[0].select('.pron')[0].text)\n",
    "    for block in entry.select('.def-block'):\n",
    "        print('definition: ', block.select('.def')[0].text) \n",
    "        print('translation: ', block.select('.trans')[0].text)\n",
    "        for example in block.select('.examp'):\n",
    "            print ('example: ', example.text)\n",
    "        print ('-'*20)"
   ]
  },
  {
   "cell_type": "code",
   "execution_count": null,
   "metadata": {},
   "outputs": [],
   "source": []
  },
  {
   "cell_type": "code",
   "execution_count": 127,
   "metadata": {},
   "outputs": [
    {
     "name": "stdout",
     "output_type": "stream",
     "text": [
      "[\n",
      "  {\n",
      "    \"pos\": \"adjective\",\n",
      "    \"pron\": \"/\\u026a\\u02c8kw\\u026av.\\u0259.k\\u0259l/\",\n",
      "    \"def\": \"not clear and seeming to have two opposing meanings, or confusing and able to be understood in two different ways\",\n",
      "    \"trans\": \"\\u542b\\u7cca\\u7684\\uff1b\\u6a21\\u68f1\\u5169\\u53ef\\u7684\\uff1b\\u6709\\u6b67\\u7fa9\\u7684\",\n",
      "    \"examp\": \" His words to the press were deliberately equivocal - he didn't deny the reports but neither did he confirm them.\\n\\u4ed6\\u5c0d\\u65b0\\u805e\\u754c\\u767c\\u8a00\\u6642\\u6545\\u610f\\u542b\\u7cca\\u5176\\u8a5e\\u2014\\u2014\\u65e2\\u6c92\\u6709\\u5426\\u8a8d\\u4e5f\\u6c92\\u6709\\u8b49\\u5be6\\u9019\\u4e9b\\u5831\\u9053\\u3002\\n\"\n",
      "  }\n",
      "]\n"
     ]
    }
   ],
   "source": [
    "\n",
    "# display\n",
    "soup = BeautifulSoup( text , 'lxml')\n",
    "\n",
    "entries = []\n",
    "for entry in soup.select('.entry-body__el'):\n",
    "    entry_info = {}\n",
    "    if len(entry.select('.pos')) == 0:\n",
    "        continue\n",
    "    if len(entry.select('.gram')) == 0:\n",
    "        pos = entry.select('.pos')[0].text\n",
    "    else:\n",
    "        pos = '{} {}'.format(entry.select('.pos')[0].text, entry.select('.gram')[0].text)\n",
    "    entry_info['pos'] = pos\n",
    "    entry_info['pron'] = entry.select('.us')[0].select('.pron')[0].text\n",
    "    for block in entry.select('.def-block'):\n",
    "        entry_info['def'] = entry.select('.def')[0].text\n",
    "        entry_info['trans'] = entry.select('.trans')[0].text\n",
    "        for example in block.select('.examp'):\n",
    "            entry_info['examp'] = example.text\n",
    "    entries.append(entry_info)\n",
    "    \n",
    "print (json.dumps(entries, indent=2))\n",
    "with open(\"sample.json\", \"w\", encoding=\"utf-8\") as outfile:\n",
    "    json.dump(entries, outfile, indent=2, ensure_ascii=False)"
   ]
  },
  {
   "cell_type": "code",
   "execution_count": 113,
   "metadata": {},
   "outputs": [
    {
     "data": {
      "text/plain": [
       "['pontificate', 'eat', 'crawl']"
      ]
     },
     "execution_count": 113,
     "metadata": {},
     "output_type": "execute_result"
    }
   ],
   "source": [
    "with open('vocabs.txt', 'r') as f:\n",
    "    vocabs = [vocab.strip() for vocab in f.read().splitlines()]\n",
    "vocabs"
   ]
  },
  {
   "cell_type": "markdown",
   "metadata": {},
   "source": [
    "## vocabulary.com"
   ]
  },
  {
   "cell_type": "code",
   "execution_count": 33,
   "metadata": {},
   "outputs": [],
   "source": [
    "import requests\n",
    "from bs4 import BeautifulSoup\n",
    "import json\n",
    "\n",
    "headers = {'User-Agent': 'Mozilla/5.0 (Linux; Android 6.0; Nexus 5 Build/MRA58N) AppleWebKit/537.36 (KHTML, like Gecko) Chrome/105.0.0.0 Mobile Safari/537.36'}\n",
    "vocab = \"transparent\"\n",
    "res = requests.get('https://www.vocabulary.com/dictionary/{}'.format(vocab), headers=headers)\n",
    "text = res.text"
   ]
  },
  {
   "cell_type": "code",
   "execution_count": 36,
   "metadata": {},
   "outputs": [
    {
     "name": "stdout",
     "output_type": "stream",
     "text": [
      "You can see right through something transparent. A window is transparent — unless it's really, really dirty. Time to break out some soap!\n",
      "----------\n",
      "Obviously the glass of a window is transparent, but transparent can also describe something that is clearly understood and lacks any deception or secrecy.  Reporters use it these days to describe the ideal way for government to develop policy, where voters can see the process and how decisions are achieved. Some in government, however, would argue that the leaking of top-secret information takes transparency a step too far.\n"
     ]
    }
   ],
   "source": [
    "# display\n",
    "soup = BeautifulSoup( text , 'html.parser')\n",
    "\n",
    "print (soup.select_one('.short').text)\n",
    "print ('-'*10)\n",
    "print (soup.select_one('.long').text)"
   ]
  },
  {
   "cell_type": "code",
   "execution_count": null,
   "metadata": {},
   "outputs": [],
   "source": []
  }
 ],
 "metadata": {
  "kernelspec": {
   "display_name": "Python 3",
   "language": "python",
   "name": "python3"
  },
  "language_info": {
   "codemirror_mode": {
    "name": "ipython",
    "version": 3
   },
   "file_extension": ".py",
   "mimetype": "text/x-python",
   "name": "python",
   "nbconvert_exporter": "python",
   "pygments_lexer": "ipython3",
   "version": "3.7.3"
  }
 },
 "nbformat": 4,
 "nbformat_minor": 4
}
