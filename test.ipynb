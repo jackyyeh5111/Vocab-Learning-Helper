{
 "cells": [
  {
   "cell_type": "code",
   "execution_count": 96,
   "metadata": {},
   "outputs": [],
   "source": [
    "import requests\n",
    "from bs4 import BeautifulSoup\n",
    "import json\n",
    "\n",
    "headers = {'User-Agent': 'Mozilla/5.0 (Linux; Android 6.0; Nexus 5 Build/MRA58N) AppleWebKit/537.36 (KHTML, like Gecko) Chrome/105.0.0.0 Mobile Safari/537.36'}\n",
    "vocab = \"pontificate\"\n",
    "res = requests.get('https://dictionary.cambridge.org/zht/%E8%A9%9E%E5%85%B8/%E8%8B%B1%E8%AA%9E-%E6%BC%A2%E8%AA%9E-%E7%B9%81%E9%AB%94/{}'.format(vocab), headers=headers)\n",
    "text = res.text"
   ]
  },
  {
   "cell_type": "code",
   "execution_count": 109,
   "metadata": {},
   "outputs": [
    {
     "name": "stdout",
     "output_type": "stream",
     "text": [
      "verb [ I ]\n",
      "<span class=\"us dpron-i\"><span class=\"region dreg\">us</span><span class=\"daud\">\n",
      "<amp-audio controlslist=\"nodownload\" id=\"ampaudio2\" layout=\"nodisplay\" preload=\"none\">\n",
      "<div class=\"hdib\" fallback=\"\">\n",
      "<p>Your browser doesn't support HTML5 audio</p>\n",
      "</div>\n",
      "<source src=\"/zht/media/%E8%8B%B1%E8%AA%9E-%E6%BC%A2%E8%AA%9E-%E7%B9%81%E9%AB%94/us_pron/p/pon/ponti/pontificate.mp3\" type=\"audio/mpeg\"/>\n",
      "<source src=\"/zht/media/%E8%8B%B1%E8%AA%9E-%E6%BC%A2%E8%AA%9E-%E7%B9%81%E9%AB%94/us_pron_ogg/p/pon/ponti/pontificate.ogg\" type=\"audio/ogg\"/>\n",
      "</amp-audio>\n",
      "<div class=\"i i-volume-up c_aud htc hdib hp hv-1 fon tcu tc-bd lmr-10 lpt-3\" on=\"tap: ampaudio2.play\" role=\"button\" tabindex=\"0\" title=\"聽美式英語發音\">\n",
      "</div>\n",
      "</span><span class=\"pron dpron\">/<span class=\"ipa dipa lpr-2 lpl-1\">pɑːnˈtɪf.ə.keɪt</span>/</span></span>\n"
     ]
    },
    {
     "ename": "IndexError",
     "evalue": "list index out of range",
     "output_type": "error",
     "traceback": [
      "\u001b[0;31m---------------------------------------------------------------------------\u001b[0m",
      "\u001b[0;31mIndexError\u001b[0m                                Traceback (most recent call last)",
      "\u001b[0;32m<ipython-input-109-ac97a1ca39ac>\u001b[0m in \u001b[0;36m<module>\u001b[0;34m\u001b[0m\n\u001b[1;32m      7\u001b[0m     \u001b[0mprint\u001b[0m\u001b[0;34m(\u001b[0m\u001b[0;34m'{} {}'\u001b[0m\u001b[0;34m.\u001b[0m\u001b[0mformat\u001b[0m\u001b[0;34m(\u001b[0m\u001b[0mentry\u001b[0m\u001b[0;34m.\u001b[0m\u001b[0mselect\u001b[0m\u001b[0;34m(\u001b[0m\u001b[0;34m'.pos'\u001b[0m\u001b[0;34m)\u001b[0m\u001b[0;34m[\u001b[0m\u001b[0;36m0\u001b[0m\u001b[0;34m]\u001b[0m\u001b[0;34m.\u001b[0m\u001b[0mtext\u001b[0m\u001b[0;34m,\u001b[0m \u001b[0mentry\u001b[0m\u001b[0;34m.\u001b[0m\u001b[0mselect\u001b[0m\u001b[0;34m(\u001b[0m\u001b[0;34m'.gram'\u001b[0m\u001b[0;34m)\u001b[0m\u001b[0;34m[\u001b[0m\u001b[0;36m0\u001b[0m\u001b[0;34m]\u001b[0m\u001b[0;34m.\u001b[0m\u001b[0mtext\u001b[0m\u001b[0;34m)\u001b[0m\u001b[0;34m)\u001b[0m\u001b[0;34m\u001b[0m\u001b[0;34m\u001b[0m\u001b[0m\n\u001b[1;32m      8\u001b[0m     \u001b[0mprint\u001b[0m \u001b[0;34m(\u001b[0m\u001b[0mentry\u001b[0m\u001b[0;34m.\u001b[0m\u001b[0mselect\u001b[0m\u001b[0;34m(\u001b[0m\u001b[0;34m'.us'\u001b[0m\u001b[0;34m)\u001b[0m\u001b[0;34m[\u001b[0m\u001b[0;36m0\u001b[0m\u001b[0;34m]\u001b[0m\u001b[0;34m)\u001b[0m\u001b[0;34m\u001b[0m\u001b[0;34m\u001b[0m\u001b[0m\n\u001b[0;32m----> 9\u001b[0;31m     \u001b[0mprint\u001b[0m\u001b[0;34m(\u001b[0m\u001b[0;34m'pronounciation: '\u001b[0m\u001b[0;34m,\u001b[0m \u001b[0mentry\u001b[0m\u001b[0;34m.\u001b[0m\u001b[0mselect\u001b[0m\u001b[0;34m(\u001b[0m\u001b[0;34m'.us'\u001b[0m\u001b[0;34m)\u001b[0m\u001b[0;34m[\u001b[0m\u001b[0;36m0\u001b[0m\u001b[0;34m]\u001b[0m\u001b[0;34m.\u001b[0m\u001b[0mselect\u001b[0m\u001b[0;34m(\u001b[0m\u001b[0;34m'pron'\u001b[0m\u001b[0;34m)\u001b[0m\u001b[0;34m[\u001b[0m\u001b[0;36m0\u001b[0m\u001b[0;34m]\u001b[0m\u001b[0;34m.\u001b[0m\u001b[0mtext\u001b[0m\u001b[0;34m)\u001b[0m\u001b[0;34m\u001b[0m\u001b[0;34m\u001b[0m\u001b[0m\n\u001b[0m\u001b[1;32m     10\u001b[0m     \u001b[0;32mfor\u001b[0m \u001b[0mblock\u001b[0m \u001b[0;32min\u001b[0m \u001b[0mentry\u001b[0m\u001b[0;34m.\u001b[0m\u001b[0mselect\u001b[0m\u001b[0;34m(\u001b[0m\u001b[0;34m'.def-block'\u001b[0m\u001b[0;34m)\u001b[0m\u001b[0;34m:\u001b[0m\u001b[0;34m\u001b[0m\u001b[0;34m\u001b[0m\u001b[0m\n\u001b[1;32m     11\u001b[0m         \u001b[0mprint\u001b[0m\u001b[0;34m(\u001b[0m\u001b[0;34m'definition: '\u001b[0m\u001b[0;34m,\u001b[0m \u001b[0mblock\u001b[0m\u001b[0;34m.\u001b[0m\u001b[0mselect\u001b[0m\u001b[0;34m(\u001b[0m\u001b[0;34m'.def'\u001b[0m\u001b[0;34m)\u001b[0m\u001b[0;34m[\u001b[0m\u001b[0;36m0\u001b[0m\u001b[0;34m]\u001b[0m\u001b[0;34m.\u001b[0m\u001b[0mtext\u001b[0m\u001b[0;34m)\u001b[0m\u001b[0;34m\u001b[0m\u001b[0;34m\u001b[0m\u001b[0m\n",
      "\u001b[0;31mIndexError\u001b[0m: list index out of range"
     ]
    }
   ],
   "source": [
    "# display\n",
    "soup = BeautifulSoup( text , 'lxml')\n",
    "    \n",
    "for entry in soup.select('.entry-body__el'):\n",
    "    if (len(entry.select('.pos')) == 0 or len(entry.select('.gram')) == 0):\n",
    "        continue\n",
    "    print('{} {}'.format(entry.select('.pos')[0].text, entry.select('.gram')[0].text))\n",
    "    print (entry.select('.us')[0])\n",
    "    print('pronounciation: ', entry.select('.us')[0].select('pron')[0].text)\n",
    "    for block in entry.select('.def-block'):\n",
    "        print('definition: ', block.select('.def')[0].text) \n",
    "        print('translation: ', block.select('.trans')[0].text)\n",
    "        for example in block.select('.examp'):\n",
    "            print ('example: ', example.text)\n",
    "        print ('-'*20)"
   ]
  },
  {
   "cell_type": "code",
   "execution_count": 102,
   "metadata": {},
   "outputs": [
    {
     "name": "stdout",
     "output_type": "stream",
     "text": [
      "[\n",
      "  {\n",
      "    \"pos\": \"verb\",\n",
      "    \"pron\": \"/p\\u0252n\\u02c8t\\u026af.\\u026a.ke\\u026at/\",\n",
      "    \"def\": \"to speak or write and give your opinion about something as if you knew everything about it and as if only your opinion was correct\",\n",
      "    \"trans\": \"\\u81ea\\u4ee5\\u70ba\\u662f\\u5730\\u767c\\u8868\\u610f\\u898b\\uff1b\\u767c\\u8868\\u6b66\\u65b7\\u7684\\u610f\\u898b\",\n",
      "    \"examp\": \" I think it should be illegal for non-parents to pontificate on/about parenting.\\n\\u6211\\u8a8d\\u70ba\\u6c92\\u6709\\u505a\\u904e\\u7236\\u6bcd\\u7684\\u4eba\\u662f\\u6c92\\u6709\\u8cc7\\u683c\\u81ea\\u4ee5\\u70ba\\u662f\\u5730\\u5927\\u8ac7\\u70ba\\u4eba\\u7236\\u6bcd\\u4e4b\\u9053\\u7684\\u3002\\n\"\n",
      "  },\n",
      "  {\n",
      "    \"pos\": \"noun\",\n",
      "    \"pron\": \"/p\\u0252n\\u02c8t\\u026af.\\u026a.k\\u0259t/\",\n",
      "    \"def\": \"the period of office of a pope (= leader of the Roman Catholic Church)\",\n",
      "    \"trans\": \"\\u6559\\u7687\\u4efb\\u671f\",\n",
      "    \"examp\": \" The decision was made during the pontificate of Pope John XX.\\n\\u9019\\u500b\\u6c7a\\u5b9a\\u662f\\u5728\\u6559\\u7687\\u7d04\\u7ff0\\u4e8c\\u5341\\u4e16\\u4efb\\u671f\\u5167\\u4f5c\\u51fa\\u7684\\u3002\\n\"\n",
      "  }\n",
      "]\n"
     ]
    }
   ],
   "source": [
    "\n",
    "# display\n",
    "soup = BeautifulSoup( text , 'lxml')\n",
    "\n",
    "entries = []\n",
    "for entry in soup.select('.entry-body__el'):\n",
    "    entry_info = {}\n",
    "    if (len(entry.select('.pos')) == 0 or len(entry.select('.gram')) == 0):\n",
    "        continue\n",
    "    entry_info['pos'] = entry.select('.pos')[0].text\n",
    "    entry_info['pron'] = entry.select('.pron')[0].text\n",
    "    for block in entry.select('.def-block'):\n",
    "        entry_info['def'] = entry.select('.def')[0].text\n",
    "        entry_info['trans'] = entry.select('.trans')[0].text\n",
    "        for example in block.select('.examp'):\n",
    "            entry_info['examp'] = example.text\n",
    "    entries.append(entry_info)\n",
    "    \n",
    "print (json.dumps(entries, indent=2))\n",
    "with open(\"sample.json\", \"w\", encoding=\"utf-8\") as outfile:\n",
    "    json.dump(entries, outfile, indent=2, ensure_ascii=False)"
   ]
  },
  {
   "cell_type": "code",
   "execution_count": null,
   "metadata": {},
   "outputs": [],
   "source": []
  }
 ],
 "metadata": {
  "kernelspec": {
   "display_name": "Python 3",
   "language": "python",
   "name": "python3"
  },
  "language_info": {
   "codemirror_mode": {
    "name": "ipython",
    "version": 3
   },
   "file_extension": ".py",
   "mimetype": "text/x-python",
   "name": "python",
   "nbconvert_exporter": "python",
   "pygments_lexer": "ipython3",
   "version": "3.7.3"
  }
 },
 "nbformat": 4,
 "nbformat_minor": 4
}
