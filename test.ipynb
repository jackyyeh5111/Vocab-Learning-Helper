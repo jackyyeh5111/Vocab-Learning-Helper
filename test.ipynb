{
 "cells": [
  {
   "cell_type": "code",
   "execution_count": 51,
   "metadata": {},
   "outputs": [],
   "source": [
    "import requests\n",
    "from bs4 import BeautifulSoup\n",
    "\n",
    "headers = {'User-Agent': 'Mozilla/5.0 (Linux; Android 6.0; Nexus 5 Build/MRA58N) AppleWebKit/537.36 (KHTML, like Gecko) Chrome/105.0.0.0 Mobile Safari/537.36'}\n",
    "vocab = \"period\"\n",
    "res = requests.get('https://dictionary.cambridge.org/zht/%E8%A9%9E%E5%85%B8/%E8%8B%B1%E8%AA%9E-%E6%BC%A2%E8%AA%9E-%E7%B9%81%E9%AB%94/{}'.format(vocab), headers=headers)\n",
    "text = res.text"
   ]
  },
  {
   "cell_type": "code",
   "execution_count": 72,
   "metadata": {},
   "outputs": [
    {
     "name": "stdout",
     "output_type": "stream",
     "text": [
      "noun [ C ]\n",
      "definition:  a length of time\n",
      "translation:  一段時間，時期\n",
      "example:   Her work means that she spends long periods away from home.\n",
      "她的工作意味著她須長時間離家在外。\n",
      "\n",
      "example:   Unemployment in the first half of the year was 2.5 percent lower than in the same period the year before.\n",
      "上半年的失業率比前一年同期低2.5%。\n",
      "\n",
      "example:   15 people were killed in/over a period of four days.\n",
      "在四天內有15人被殺。\n",
      "\n",
      "example:   The study will be carried out over a six-month period.\n",
      "調查將持續六個月。\n",
      "\n",
      "--------------------\n",
      "definition:  in school, a division of time in the day when a subject is taught\n",
      "translation:  課時，學時，一節（課）\n",
      "example:   We have six periods of science a week.\n",
      "我們一周有六節自然科學課。\n",
      "\n",
      "--------------------\n",
      "definition:  a fixed time during the life of a person or in history\n",
      "translation:  （人一生中或歷史上的）時期；階段\n",
      "example:   Most teenagers go through a rebellious period.\n",
      "大部分青少年都要經過一個叛逆期。\n",
      "\n",
      "example:   The house was built during the Elizabethan period.\n",
      "這幢房子是在伊莉莎白時期建造的。\n",
      "\n",
      "--------------------\n",
      "definition:  the bleeding from a woman's womb that happens once a month when she is not pregnant\n",
      "translation:  （婦女的）生理期，月經\n",
      "example:   period pains\n",
      "經痛，生理痛\n",
      "\n",
      "example:   She'd missed a period and was worried.\n",
      "她的月經沒按期來，讓她很擔心。\n",
      "\n",
      "--------------------\n",
      "definition:  the symbol . used in writing at the end of a sentence or at the end of the short form of a word\n",
      "translation:  句號\n",
      "--------------------\n",
      "definition:  said at the end of a statement to show that you believe you have said all there is to say on a subject and you are not going to discuss it any more\n",
      "translation:  （用於一句話的結尾，表示某一話題已討論完畢，不願再繼續）到此為止，就這樣\n",
      "example:   There will be no more shouting, period!\n",
      "別再喊叫了，到此為止！\n",
      "\n",
      "--------------------\n"
     ]
    }
   ],
   "source": [
    "\n",
    "soup = BeautifulSoup( text , 'lxml')\n",
    "    \n",
    "for entry in soup.select('.entry-body__el'):\n",
    "    if (len(entry.select('.pos')) == 0 or len(entry.select('.gram')) == 0):\n",
    "        continue\n",
    "    print('{} {}'.format(entry.select('.pos')[0].text, entry.select('.gram')[0].text))\n",
    "    for block in entry.select('.def-block'):\n",
    "        print('definition: ', block.select('.def')[0].text) # meaning\n",
    "        print('translation: ', block.select('.trans')[0].text) # translation\n",
    "        for example in block.select('.examp'):\n",
    "            print ('example: ', example.text)\n",
    "        print ('-'*20)"
   ]
  },
  {
   "cell_type": "code",
   "execution_count": null,
   "metadata": {},
   "outputs": [],
   "source": []
  }
 ],
 "metadata": {
  "kernelspec": {
   "display_name": "Python 3",
   "language": "python",
   "name": "python3"
  },
  "language_info": {
   "codemirror_mode": {
    "name": "ipython",
    "version": 3
   },
   "file_extension": ".py",
   "mimetype": "text/x-python",
   "name": "python",
   "nbconvert_exporter": "python",
   "pygments_lexer": "ipython3",
   "version": "3.7.3"
  }
 },
 "nbformat": 4,
 "nbformat_minor": 4
}
